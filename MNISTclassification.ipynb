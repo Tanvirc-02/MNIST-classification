{
  "nbformat": 4,
  "nbformat_minor": 0,
  "metadata": {
    "colab": {
      "provenance": [],
      "authorship_tag": "ABX9TyMtplXSZY1Ms501xantAcEY"
    },
    "kernelspec": {
      "name": "python3",
      "display_name": "Python 3"
    },
    "language_info": {
      "name": "python"
    }
  },
  "cells": [
    {
      "cell_type": "code",
      "execution_count": 16,
      "metadata": {
        "id": "HINp3unGpHdU"
      },
      "outputs": [],
      "source": [
        "import tensorflow as tf"
      ]
    },
    {
      "cell_type": "code",
      "source": [
        "minst = tf.keras.datasets.mnist"
      ],
      "metadata": {
        "id": "BYePK6mIpK0N"
      },
      "execution_count": 17,
      "outputs": []
    },
    {
      "cell_type": "code",
      "source": [
        "(x_train, y_train), (x_test, y_test) = minst.load_data()"
      ],
      "metadata": {
        "id": "DVvz2v1spRnT"
      },
      "execution_count": 18,
      "outputs": []
    },
    {
      "cell_type": "code",
      "source": [
        "x_train, x_test = x_train / 255.0, x_test / 255.0  #normalization: bringing the values in the range of 0 to 1. pixel values range between 0-255. "
      ],
      "metadata": {
        "id": "M2NEGB5gpe2N"
      },
      "execution_count": 19,
      "outputs": []
    },
    {
      "cell_type": "code",
      "source": [
        "x_train = x_train[..., tf.newaxis]    #channel dimension\n",
        "x_test = x_test[..., tf.newaxis]"
      ],
      "metadata": {
        "id": "zyYtwyp7p9IS"
      },
      "execution_count": 20,
      "outputs": []
    },
    {
      "cell_type": "code",
      "source": [
        "#define NN architecture\n",
        "model = tf.keras.models.Sequential([\n",
        "    tf.keras.layers.Conv2D(32, 3, activation='relu', input_shape=(28, 28, 1)),\n",
        "    tf.keras.layers.MaxPooling2D(),\n",
        "    tf.keras.layers.Flatten(),\n",
        "    tf.keras.layers.Dense(64, activation = 'relu'),\n",
        "    tf.keras.layers.Dense(10, activation = 'softmax')\n",
        "])"
      ],
      "metadata": {
        "id": "9gmg5Z28qbYH"
      },
      "execution_count": 21,
      "outputs": []
    },
    {
      "cell_type": "code",
      "source": [
        "#compile model\n",
        "model.compile(optimizer = 'adam',\n",
        "              loss = 'sparse_categorical_crossentropy',\n",
        "              metrics = ['accuracy'])"
      ],
      "metadata": {
        "id": "QY6Hw4LktmD-"
      },
      "execution_count": 22,
      "outputs": []
    },
    {
      "cell_type": "code",
      "source": [
        "#train model using fit method\n",
        "model.fit(x_train, y_train, epochs=5, validation_data = (x_test, y_test))"
      ],
      "metadata": {
        "colab": {
          "base_uri": "https://localhost:8080/"
        },
        "id": "Bh1y1b7euON2",
        "outputId": "d93d5631-c170-4a1b-92a0-45829985ca67"
      },
      "execution_count": 23,
      "outputs": [
        {
          "output_type": "stream",
          "name": "stdout",
          "text": [
            "Epoch 1/5\n",
            "1875/1875 [==============================] - 48s 25ms/step - loss: 0.1717 - accuracy: 0.9492 - val_loss: 0.0684 - val_accuracy: 0.9773\n",
            "Epoch 2/5\n",
            "1875/1875 [==============================] - 40s 21ms/step - loss: 0.0589 - accuracy: 0.9823 - val_loss: 0.0521 - val_accuracy: 0.9824\n",
            "Epoch 3/5\n",
            "1875/1875 [==============================] - 42s 22ms/step - loss: 0.0408 - accuracy: 0.9874 - val_loss: 0.0526 - val_accuracy: 0.9829\n",
            "Epoch 4/5\n",
            "1875/1875 [==============================] - 49s 26ms/step - loss: 0.0292 - accuracy: 0.9910 - val_loss: 0.0429 - val_accuracy: 0.9853\n",
            "Epoch 5/5\n",
            "1875/1875 [==============================] - 40s 21ms/step - loss: 0.0204 - accuracy: 0.9936 - val_loss: 0.0569 - val_accuracy: 0.9842\n"
          ]
        },
        {
          "output_type": "execute_result",
          "data": {
            "text/plain": [
              "<keras.callbacks.History at 0x7f7ad31e3010>"
            ]
          },
          "metadata": {},
          "execution_count": 23
        }
      ]
    },
    {
      "cell_type": "code",
      "source": [
        "model.evaluate(x_test, y_test)"
      ],
      "metadata": {
        "colab": {
          "base_uri": "https://localhost:8080/"
        },
        "id": "6go-rnwJupf1",
        "outputId": "2188f90f-052d-4878-f7c9-40d5fd30688c"
      },
      "execution_count": 24,
      "outputs": [
        {
          "output_type": "stream",
          "name": "stdout",
          "text": [
            "313/313 [==============================] - 2s 6ms/step - loss: 0.0569 - accuracy: 0.9842\n"
          ]
        },
        {
          "output_type": "execute_result",
          "data": {
            "text/plain": [
              "[0.056914038956165314, 0.9842000007629395]"
            ]
          },
          "metadata": {},
          "execution_count": 24
        }
      ]
    },
    {
      "cell_type": "code",
      "source": [
        "loss, accuracy = model.evaluate(x_test, y_test)\n",
        "print(f\"Test Loss: {loss}\")\n",
        "print(f\"Test Accuracy: {accuracy}\")"
      ],
      "metadata": {
        "colab": {
          "base_uri": "https://localhost:8080/"
        },
        "id": "X5zn6oZqPqjk",
        "outputId": "50523cf6-598d-45d0-a841-6b0c9193f5d8"
      },
      "execution_count": 25,
      "outputs": [
        {
          "output_type": "stream",
          "name": "stdout",
          "text": [
            "313/313 [==============================] - 2s 6ms/step - loss: 0.0569 - accuracy: 0.9842\n",
            "Test Loss: 0.056914038956165314\n",
            "Test Accuracy: 0.9842000007629395\n"
          ]
        }
      ]
    },
    {
      "cell_type": "code",
      "source": [
        "predictions = model.predict(x_test)"
      ],
      "metadata": {
        "colab": {
          "base_uri": "https://localhost:8080/"
        },
        "id": "hYmxPW_9B_WK",
        "outputId": "01ec6b84-a68d-49e5-edec-f77ca537e172"
      },
      "execution_count": 26,
      "outputs": [
        {
          "output_type": "stream",
          "name": "stdout",
          "text": [
            "313/313 [==============================] - 2s 6ms/step\n"
          ]
        }
      ]
    },
    {
      "cell_type": "code",
      "source": [
        "import numpy as np\n",
        "for i in range(10):\n",
        "    predicted_label = np.argmax(predictions[i])\n",
        "    true_label = y_test[i]\n",
        "    print(f\"Image {i+1}: Predicted Label - {predicted_label}, True Label - {true_label}\")"
      ],
      "metadata": {
        "colab": {
          "base_uri": "https://localhost:8080/"
        },
        "id": "sjlaNLJ_rS3O",
        "outputId": "00fb69f6-4cf4-4603-94d9-4d4e22cc939d"
      },
      "execution_count": 29,
      "outputs": [
        {
          "output_type": "stream",
          "name": "stdout",
          "text": [
            "Image 1: Predicted Label - 7, True Label - 7\n",
            "Image 2: Predicted Label - 2, True Label - 2\n",
            "Image 3: Predicted Label - 1, True Label - 1\n",
            "Image 4: Predicted Label - 0, True Label - 0\n",
            "Image 5: Predicted Label - 4, True Label - 4\n",
            "Image 6: Predicted Label - 1, True Label - 1\n",
            "Image 7: Predicted Label - 4, True Label - 4\n",
            "Image 8: Predicted Label - 9, True Label - 9\n",
            "Image 9: Predicted Label - 5, True Label - 5\n",
            "Image 10: Predicted Label - 9, True Label - 9\n"
          ]
        }
      ]
    },
    {
      "cell_type": "code",
      "source": [],
      "metadata": {
        "id": "IG4FvCKWF-_z"
      },
      "execution_count": null,
      "outputs": []
    }
  ]
}